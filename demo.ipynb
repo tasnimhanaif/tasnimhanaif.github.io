{
 "cells": [
  {
   "cell_type": "code",
   "execution_count": null,
   "metadata": {},
   "outputs": [],
   "source": [
    "import pulsar\n",
    "\n",
    "seed = b'43'\n",
    "model = pulsar.REPOS[1] # celebahq\n",
    "\n",
    "alice_stego = pulsar.Pulsar(seed=seed, repo=model)"
   ]
  },
  {
   "cell_type": "code",
   "execution_count": null,
   "metadata": {},
   "outputs": [],
   "source": [
    "# Calculate the maximum message length that can be transmitted\n",
    "m_len = alice_stego.estimate_regions(n_hist_bins=100, n_to_gen=1, end_to_end=True)\n",
    "print(m_len)\n"
   ]
  },
  {
   "cell_type": "code",
   "execution_count": 8,
   "metadata": {},
   "outputs": [
    {
     "name": "stdout",
     "output_type": "stream",
     "text": [
      "Pickling completed\n"
     ]
    }
   ],
   "source": [
    "# PICKLING CODE PROCESS **CHANGED*** \n",
    "import pulsar\n",
    "import pickle\n",
    "\n",
    "test = pulsar.REPOS[1] # celebahq\n",
    "# Pickle the object to a binary file\n",
    "with open(\"pickledFile.pickle\", \"wb\") as file:\n",
    "\tpickle.dump(test, file)\n",
    "    \n",
    "print(\"Pickling completed\")\n",
    "\n",
    "#Include a Sanity Check\n"
   ]
  },
  {
   "cell_type": "code",
   "execution_count": 9,
   "metadata": {},
   "outputs": [
    {
     "ename": "NameError",
     "evalue": "name 'm_len' is not defined",
     "output_type": "error",
     "traceback": [
      "\u001b[0;31m---------------------------------------------------------------------------\u001b[0m",
      "\u001b[0;31mNameError\u001b[0m                                 Traceback (most recent call last)",
      "Cell \u001b[0;32mIn[9], line 2\u001b[0m\n\u001b[1;32m      1\u001b[0m \u001b[38;5;66;03m# Generate a message to send\u001b[39;00m\n\u001b[0;32m----> 2\u001b[0m alice_message \u001b[38;5;241m=\u001b[39m \u001b[38;5;124mb\u001b[39m\u001b[38;5;124m'\u001b[39m\u001b[38;5;124mE\u001b[39m\u001b[38;5;124m'\u001b[39m \u001b[38;5;241m*\u001b[39m (\u001b[43mm_len\u001b[49m)\n\u001b[1;32m      4\u001b[0m \u001b[38;5;66;03m# Uncomment this for a random message instead\u001b[39;00m\n\u001b[1;32m      5\u001b[0m \u001b[38;5;66;03m# import os\u001b[39;00m\n\u001b[1;32m      6\u001b[0m \u001b[38;5;66;03m# alice_message = os.urandom(m_len)\u001b[39;00m\n\u001b[1;32m      8\u001b[0m alice_generate_results \u001b[38;5;241m=\u001b[39m alice_stego\u001b[38;5;241m.\u001b[39mgenerate_with_regions(alice_message)\n",
      "\u001b[0;31mNameError\u001b[0m: name 'm_len' is not defined"
     ]
    }
   ],
   "source": [
    "# Generate a message to send\n",
    "alice_message = b'E' * (m_len)\n",
    "\n",
    "# Uncomment this for a random message instead\n",
    "# import os\n",
    "# alice_message = os.urandom(m_len)\n",
    "\n",
    "alice_generate_results = alice_stego.generate_with_regions(alice_message)"
   ]
  },
  {
   "cell_type": "code",
   "execution_count": null,
   "metadata": {},
   "outputs": [],
   "source": [
    "last = alice_stego.scheduler.num_inference_steps - 1\n",
    "alice_hidden_sample = alice_generate_results[\"samples\"][last][\"hidden\"]"
   ]
  },
  {
   "cell_type": "code",
   "execution_count": null,
   "metadata": {},
   "outputs": [],
   "source": [
    "import PIL\n",
    "import png # pypng package\n",
    "import torch\n",
    "import numpy as np\n",
    "\n",
    "# TODO: Integrate this with Pulsar and its benchmarks\n",
    "\n",
    "def display_sample(sample):\n",
    "    image_processed = sample.cpu().permute(0, 2, 3, 1)\n",
    "    image_processed = (image_processed + 1.0) * 127.5\n",
    "    image_processed = image_processed.numpy().astype(np.uint8)\n",
    "\n",
    "    image_pil = PIL.Image.fromarray(image_processed[0])\n",
    "\n",
    "    display(image_pil)\n",
    "\n",
    "\n",
    "def save_sample(sample, fname, dtype=np.uint16):\n",
    "    image_processed = sample.cpu().permute(0, 2, 3, 1).numpy()\n",
    "    dtype_max = np.iinfo(dtype).max\n",
    "\n",
    "    y = image_processed[0]\n",
    "    #   z = (dtype_max*((y - y.min())/y.ptp())).astype(dtype)\n",
    "    z = (y + 1.0) * (dtype_max/2)\n",
    "    image_processed = z.astype(dtype)\n",
    "\n",
    "    # https://stackoverflow.com/a/25814423\n",
    "    with open(fname, \"wb\") as f:\n",
    "        writer = png.Writer(width=image_processed.shape[1], height=image_processed.shape[0], bitdepth=int(np.log2(dtype_max))+1, greyscale=False)\n",
    "        image2list = image_processed.reshape(-1, image_processed.shape[1]*image_processed.shape[2]).tolist()\n",
    "        writer.write(f, image2list)\n",
    "\n",
    "def load_sample(fname, device, dtype=np.uint16):\n",
    "    with open(fname, \"rb\") as f:\n",
    "        reader = png.Reader(f)\n",
    "        png_data  = reader.asDirect()\n",
    "        # https://pypng.readthedocs.io/en/latest/ex.html#png-to-numpy-array-reading\n",
    "        image = np.vstack(list(map(dtype, png_data[2])))\n",
    "\n",
    "    dtype_max = np.iinfo(dtype).max\n",
    "\n",
    "    image = image.reshape((1, 256, 256, 3))\n",
    "    image = image.astype(np.float32)\n",
    "    image = torch.tensor(image)\n",
    "    image = (image / (dtype_max/2)) - 1.0\n",
    "\n",
    "    sample = image.permute(0, 3, 1, 2)\n",
    "    sample = sample.to(device)\n",
    "    return sample"
   ]
  },
  {
   "cell_type": "code",
   "execution_count": null,
   "metadata": {},
   "outputs": [],
   "source": [
    "fname = \"/tmp/pulsar_alice.png\"\n",
    "alice_stego.save_sample(alice_hidden_sample, fname)\n",
    "alice_hidden_sample"
   ]
  },
  {
   "cell_type": "code",
   "execution_count": null,
   "metadata": {},
   "outputs": [],
   "source": [
    "display_sample(alice_hidden_sample)"
   ]
  },
  {
   "cell_type": "code",
   "execution_count": null,
   "metadata": {},
   "outputs": [],
   "source": [
    "bob_stego = pulsar.Pulsar(seed=seed, repo=model)"
   ]
  },
  {
   "cell_type": "code",
   "execution_count": null,
   "metadata": {},
   "outputs": [],
   "source": [
    "# Load sample from saved sample\n",
    "# Uncomment if using a different filename\n",
    "# fname = \"/tmp/pulsar_bob.png\"\n",
    "received_hidden_sample = bob_stego.load_sample(fname)\n",
    "received_hidden_sample"
   ]
  },
  {
   "cell_type": "code",
   "execution_count": null,
   "metadata": {},
   "outputs": [],
   "source": [
    "display_sample(received_hidden_sample)"
   ]
  },
  {
   "cell_type": "code",
   "execution_count": null,
   "metadata": {},
   "outputs": [],
   "source": [
    "# Sanity check\n",
    "# Make sure Alice can decode before sending to Bob\n",
    "alice_stego.reveal_with_regions(received_hidden_sample)\n"
   ]
  },
  {
   "cell_type": "code",
   "execution_count": null,
   "metadata": {},
   "outputs": [],
   "source": [
    "# Offline phase\n",
    "bob_stego.estimate_regions(n_hist_bins=100, n_to_gen=1, end_to_end=True)"
   ]
  },
  {
   "cell_type": "code",
   "execution_count": null,
   "metadata": {},
   "outputs": [],
   "source": [
    "# Online phase\n",
    "bob_stego.reveal_with_regions(received_hidden_sample)"
   ]
  },
  {
   "cell_type": "code",
   "execution_count": null,
   "metadata": {},
   "outputs": [],
   "source": [
    "alice_stego.benchmarks"
   ]
  },
  {
   "cell_type": "code",
   "execution_count": null,
   "metadata": {
    "scrolled": true
   },
   "outputs": [],
   "source": [
    "bob_stego.benchmarks"
   ]
  }
 ],
 "metadata": {
  "kernelspec": {
   "display_name": "Python 3 (ipykernel)",
   "language": "python",
   "name": "python3"
  },
  "language_info": {
   "codemirror_mode": {
    "name": "ipython",
    "version": 3
   },
   "file_extension": ".py",
   "mimetype": "text/x-python",
   "name": "python",
   "nbconvert_exporter": "python",
   "pygments_lexer": "ipython3",
   "version": "3.9.6"
  },
  "vscode": {
   "interpreter": {
    "hash": "5577eac2f84f3a3b6ba4203f47d885d04535cbc60a4e19a8c9ccfb8b43470bd5"
   }
  }
 },
 "nbformat": 4,
 "nbformat_minor": 4
}
